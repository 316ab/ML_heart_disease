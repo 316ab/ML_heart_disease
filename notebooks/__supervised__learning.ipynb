{
 "cells": [
  {
   "cell_type": "markdown",
   "id": "9f736879",
   "metadata": {},
   "source": []
  },
  {
   "cell_type": "code",
   "execution_count": null,
   "id": "35b3613b",
   "metadata": {
    "vscode": {
     "languageId": "plaintext"
    }
   },
   "outputs": [],
   "source": []
  }
 ],
 "metadata": {
  "language_info": {
   "name": "python"
  }
 },
 "nbformat": 4,
 "nbformat_minor": 5
}
